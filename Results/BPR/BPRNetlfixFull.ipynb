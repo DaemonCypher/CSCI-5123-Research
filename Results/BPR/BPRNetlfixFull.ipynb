{
 "cells": [
  {
   "cell_type": "code",
   "execution_count": 18,
   "id": "82a0e6a7",
   "metadata": {},
   "outputs": [],
   "source": [
    "import numpy as np, pandas as pd\n",
    "from scipy.sparse import coo_matrix\n",
    "from implicit.bpr import BayesianPersonalizedRanking\n",
    "from pandas.api.types import CategoricalDtype\n",
    "from scipy import sparse\n",
    "from sklearn.model_selection import train_test_split\n",
    "import tqdm\n",
    "from recsys_metrics import *\n",
    "import torch\n",
    "# https://github.com/zuoxingdong/recsys_metrics?tab=readme-ov-file#Citation"
   ]
  },
  {
   "cell_type": "code",
   "execution_count": 2,
   "id": "8aed0976",
   "metadata": {},
   "outputs": [],
   "source": [
    "train_df = pd.read_csv(\"train.tsv\",sep=\"\\t\",    names=[\n",
    "        'user_id', 'movie_id', 'rating', 'timestamp'\n",
    "    ],)\n",
    "test_df = pd.read_csv(\"test.tsv\",sep=\"\\t\",    names=[\n",
    "        'user_id', 'movie_id', 'rating', 'timestamp'\n",
    "    ],)\n",
    "\n"
   ]
  },
  {
   "cell_type": "code",
   "execution_count": 3,
   "id": "f7d8f738",
   "metadata": {},
   "outputs": [],
   "source": [
    "test_users = test_df['user_id'].unique()\n",
    "test_items = test_df['movie_id'].unique()\n",
    "\n",
    "\n",
    "train_users = train_df['user_id'].unique()\n",
    "train_items = train_df['movie_id'].unique()\n",
    "\n",
    "\n",
    "user = list(set(train_users) & set(test_users))\n",
    "item = list(set(train_items) & set(test_items))"
   ]
  },
  {
   "cell_type": "code",
   "execution_count": 4,
   "id": "f21827da",
   "metadata": {},
   "outputs": [],
   "source": [
    "train_df = train_df[train_df['user_id'].isin(test_users)]\n",
    "train_df = train_df[train_df['movie_id'].isin(test_items)]\n",
    "\n",
    "test_df = test_df[test_df['user_id'].isin(user)]\n",
    "test_df = test_df[test_df['movie_id'].isin(item)]\n",
    "\n",
    "\n",
    "# some how the test and train split was sparse enough i guess that some of the few rows/ columns\n",
    "# that had value were removed due to the split\n",
    "#https://stackoverflow.com/questions/27965295/dropping-rows-from-dataframe-based-on-a-not-in-condition\n"
   ]
  },
  {
   "cell_type": "code",
   "execution_count": 5,
   "id": "713c85f3",
   "metadata": {},
   "outputs": [],
   "source": [
    "user_positives = test_df.groupby('user_id')['movie_id'].apply(set).to_dict()\n"
   ]
  },
  {
   "cell_type": "code",
   "execution_count": 6,
   "id": "c067a599",
   "metadata": {},
   "outputs": [],
   "source": [
    "\n",
    "test_ratings_matrix = test_df.pivot(index='user_id', columns='movie_id', values='rating')\n",
    "train_ratings_matrix = train_df.pivot(index='user_id', columns='movie_id', values='rating')\n"
   ]
  },
  {
   "cell_type": "code",
   "execution_count": 7,
   "id": "57a567a5",
   "metadata": {},
   "outputs": [
    {
     "data": {
      "text/plain": [
       "(139785, 5331)"
      ]
     },
     "metadata": {},
     "output_type": "display_data"
    },
    {
     "data": {
      "text/plain": [
       "(139785, 5331)"
      ]
     },
     "metadata": {},
     "output_type": "display_data"
    }
   ],
   "source": [
    "display(test_ratings_matrix.shape)\n",
    "display(train_ratings_matrix.shape)"
   ]
  },
  {
   "cell_type": "code",
   "execution_count": 8,
   "id": "2b6fb12b",
   "metadata": {},
   "outputs": [],
   "source": [
    "del test_df\n",
    "del train_ratings_matrix"
   ]
  },
  {
   "cell_type": "code",
   "execution_count": 9,
   "id": "28a9602d",
   "metadata": {},
   "outputs": [],
   "source": [
    "\n",
    "shape = (len(user), len(item))\n",
    "# print(shape)\n",
    "\n",
    "# Create indices for users and movies\n",
    "user_cat = CategoricalDtype(categories=sorted(user), ordered=True)\n",
    "movie_cat = CategoricalDtype(categories=sorted(item), ordered=True)\n",
    "user_index = train_df[\"user_id\"].astype(user_cat).cat.codes\n",
    "movie_index = train_df[\"movie_id\"].astype(movie_cat).cat.codes\n",
    "\n",
    "# Conversion via COO matrix\n",
    "coo = sparse.coo_matrix((train_df[\"rating\"], (user_index, movie_index)), shape=shape)\n",
    "csr = coo.tocsr()\n",
    "#https://hippocampus-garden.com/pandas_sparse/"
   ]
  },
  {
   "cell_type": "code",
   "execution_count": 10,
   "id": "4d26d4eb",
   "metadata": {},
   "outputs": [
    {
     "data": {
      "text/plain": [
       "(139785, 5331)"
      ]
     },
     "metadata": {},
     "output_type": "display_data"
    }
   ],
   "source": [
    "display(csr.shape)"
   ]
  },
  {
   "cell_type": "code",
   "execution_count": 11,
   "id": "6b4c887a",
   "metadata": {},
   "outputs": [
    {
     "data": {
      "text/plain": [
       "(139785, 5331)"
      ]
     },
     "metadata": {},
     "output_type": "display_data"
    }
   ],
   "source": [
    "display(test_ratings_matrix.shape)"
   ]
  },
  {
   "cell_type": "code",
   "execution_count": 12,
   "id": "9619885c",
   "metadata": {},
   "outputs": [],
   "source": [
    "bpr = BayesianPersonalizedRanking(factors=19, learning_rate=0.001,\n",
    "                                  regularization=0.001, dtype=np.float64,\n",
    "                                  iterations=100)"
   ]
  },
  {
   "cell_type": "code",
   "execution_count": 13,
   "id": "e299dfb4",
   "metadata": {},
   "outputs": [
    {
     "data": {
      "application/vnd.jupyter.widget-view+json": {
       "model_id": "3e8f8e5402b241d29f84d905b0e26889",
       "version_major": 2,
       "version_minor": 0
      },
      "text/plain": [
       "  0%|          | 0/100 [00:00<?, ?it/s]"
      ]
     },
     "metadata": {},
     "output_type": "display_data"
    }
   ],
   "source": [
    "bpr.fit(csr)\n"
   ]
  },
  {
   "cell_type": "code",
   "execution_count": 14,
   "id": "d624701b",
   "metadata": {},
   "outputs": [],
   "source": [
    "# reduce data type as we probably dont need that high of percision in calculation\n",
    "user_factors = bpr.user_factors.astype(np.float16)\n",
    "item_factors = bpr.item_factors.astype(np.float16)\n",
    "# https://numpy.org/doc/stable/reference/generated/numpy.ndarray.astype.html\n",
    "\n",
    "pred = np.matmul(user_factors, item_factors.T)\n"
   ]
  },
  {
   "cell_type": "code",
   "execution_count": 15,
   "id": "189917d2",
   "metadata": {},
   "outputs": [
    {
     "data": {
      "text/plain": [
       "array([[ 0.0843 ,  0.0911 , -0.8716 , ...,  0.3374 ,  0.11237,  1.792  ],\n",
       "       [ 0.0288 ,  0.0636 , -0.5713 , ...,  0.1048 ,  0.04755,  0.2057 ],\n",
       "       [ 0.0103 ,  0.05405, -0.718  , ...,  0.1099 ,  0.0637 ,  0.2988 ],\n",
       "       ...,\n",
       "       [ 0.03026,  0.0398 , -0.4956 , ...,  0.1401 ,  0.0354 , -0.01949],\n",
       "       [ 0.03677,  0.071  , -0.7856 , ...,  0.23   ,  0.07947,  0.95   ],\n",
       "       [-0.01095,  0.02676, -0.4424 , ...,  0.1039 , -0.00436, -0.522  ]],\n",
       "      dtype=float16)"
      ]
     },
     "metadata": {},
     "output_type": "display_data"
    }
   ],
   "source": [
    "display(pred)"
   ]
  },
  {
   "cell_type": "markdown",
   "id": "670ad02c",
   "metadata": {},
   "source": [
    "Delete unused variables to free up space"
   ]
  },
  {
   "cell_type": "code",
   "execution_count": 16,
   "id": "d2420032",
   "metadata": {},
   "outputs": [],
   "source": [
    "del user\n",
    "del item\n",
    "del user_cat\n",
    "del movie_cat\n",
    "del user_index\n",
    "del movie_index\n",
    "del coo\n",
    "del csr\n",
    "del shape\n",
    "del bpr\n",
    "del train_df\n",
    "del user_factors\n",
    "del item_factors"
   ]
  },
  {
   "cell_type": "code",
   "execution_count": 19,
   "id": "197b2369",
   "metadata": {},
   "outputs": [],
   "source": [
    "predv = torch.from_numpy(pred)\n",
    "#https://medium.com/@heyamit10/converting-a-numpy-array-to-a-tensor-step-by-step-df329c44b035"
   ]
  },
  {
   "cell_type": "code",
   "execution_count": 20,
   "id": "05ae8782",
   "metadata": {},
   "outputs": [],
   "source": [
    "del pred"
   ]
  },
  {
   "cell_type": "code",
   "execution_count": 21,
   "id": "a816bdea",
   "metadata": {},
   "outputs": [],
   "source": [
    "marData = predv.detach().numpy()\n",
    "marDF = pd.DataFrame(marData)\n",
    "marDF.index.name = \"user\"\n",
    "marDF.columns.name = \"items\"\n",
    "\n",
    "# marDF = marDF.stack().reset_index()\n",
    "# marDF.columns = ['user', 'item', 'score']\n",
    "# print(\"MAR\",calculate_metrics(marDF,user_positives))\n"
   ]
  },
  {
   "cell_type": "code",
   "execution_count": 22,
   "id": "2ed070ac",
   "metadata": {},
   "outputs": [],
   "source": [
    "# Jinming code\n",
    "def calculate_metrics_matrix(pred_df, user_positives):\n",
    "    metrics = {\n",
    "        'MAR@ALL': [],\n",
    "        'MAR@1000': [],\n",
    "    }\n",
    "\n",
    "    user_ids = pred_df.index.values  # Get actual user identifiers\n",
    "\n",
    "    for user in tqdm.tqdm(user_ids, desc=\"Processing Users\"):\n",
    "        positives = user_positives.get(user, set())\n",
    "\n",
    "        if len(positives) == 0:\n",
    "            continue\n",
    "\n",
    "        data = pred_df.loc[user]\n",
    "        # display(data, positives)\n",
    "\n",
    "        # this is rank\n",
    "        rank = data.index.values\n",
    "        # this is pred score\n",
    "        score = data.values\n",
    "\n",
    "        sorted_index = np.argsort(score)[::-1] \n",
    "        sorted_items = rank[sorted_index] \n",
    "\n",
    "        relevant_ranks1k = []\n",
    "        relevant_ranks_all=[]\n",
    "\n",
    "        for rank, item in enumerate(sorted_items[:1000], start=1):\n",
    "            if item in positives:\n",
    "                relevant_ranks1k.append(rank)\n",
    "        #calculate relevant\n",
    "        for rank, item in enumerate(sorted_items, start=1):\n",
    "            if item in positives:\n",
    "                relevant_ranks_all.append(rank)\n",
    "\n",
    "\n",
    "\n",
    "        if relevant_ranks_all:\n",
    "            metrics['MAR@ALL'].append(np.mean(relevant_ranks_all))\n",
    "        if relevant_ranks1k:\n",
    "            metrics['MAR@1000'].append(np.mean(relevant_ranks1k))\n",
    "\n",
    "\n",
    "\n",
    "    final = {\n",
    "        'MAR@ALL': np.mean(metrics['MAR@ALL']),\n",
    "        'MAR@1000': np.mean(metrics['MAR@1000']),\n",
    "    }\n",
    "\n",
    "    return final"
   ]
  },
  {
   "cell_type": "code",
   "execution_count": 23,
   "id": "6f5b18f4",
   "metadata": {},
   "outputs": [
    {
     "name": "stderr",
     "output_type": "stream",
     "text": [
      "Processing Users: 100%|██████████| 139785/139785 [00:13<00:00, 10180.79it/s]\n"
     ]
    },
    {
     "data": {
      "text/plain": [
       "{'MAR@ALL': np.float64(2640.8565514762868),\n",
       " 'MAR@1000': np.float64(457.72093085348246)}"
      ]
     },
     "execution_count": 23,
     "metadata": {},
     "output_type": "execute_result"
    }
   ],
   "source": [
    "calculate_metrics_matrix(marDF,user_positives)"
   ]
  },
  {
   "cell_type": "code",
   "execution_count": 24,
   "id": "bf37e1b5",
   "metadata": {},
   "outputs": [],
   "source": [
    "del marDF\n",
    "del user_positives"
   ]
  },
  {
   "cell_type": "code",
   "execution_count": 25,
   "id": "b049a6b9",
   "metadata": {},
   "outputs": [],
   "source": [
    "true = torch.tensor(test_ratings_matrix.values,dtype=torch.float16)"
   ]
  },
  {
   "cell_type": "code",
   "execution_count": 26,
   "id": "3cfdd9bb",
   "metadata": {},
   "outputs": [],
   "source": [
    "del test_ratings_matrix"
   ]
  },
  {
   "cell_type": "code",
   "execution_count": 27,
   "id": "85b3c767",
   "metadata": {},
   "outputs": [
    {
     "data": {
      "text/plain": [
       "tensor([[nan, nan, nan,  ..., nan, nan, nan],\n",
       "        [nan, nan, nan,  ..., nan, nan, nan],\n",
       "        [nan, nan, nan,  ..., nan, nan, nan],\n",
       "        ...,\n",
       "        [nan, nan, nan,  ..., nan, nan, nan],\n",
       "        [nan, nan, nan,  ..., nan, nan, nan],\n",
       "        [nan, nan, nan,  ..., nan, nan, nan]], dtype=torch.float16)"
      ]
     },
     "metadata": {},
     "output_type": "display_data"
    },
    {
     "data": {
      "text/plain": [
       "tensor([[ 0.0843,  0.0911, -0.8716,  ...,  0.3374,  0.1124,  1.7920],\n",
       "        [ 0.0288,  0.0636, -0.5713,  ...,  0.1048,  0.0475,  0.2057],\n",
       "        [ 0.0103,  0.0540, -0.7178,  ...,  0.1099,  0.0637,  0.2988],\n",
       "        ...,\n",
       "        [ 0.0303,  0.0398, -0.4956,  ...,  0.1401,  0.0354, -0.0195],\n",
       "        [ 0.0368,  0.0710, -0.7856,  ...,  0.2300,  0.0795,  0.9502],\n",
       "        [-0.0109,  0.0268, -0.4424,  ...,  0.1039, -0.0044, -0.5220]],\n",
       "       dtype=torch.float16)"
      ]
     },
     "metadata": {},
     "output_type": "display_data"
    }
   ],
   "source": [
    "display(true)\n",
    "display(predv)"
   ]
  },
  {
   "cell_type": "code",
   "execution_count": 28,
   "id": "346a85cf",
   "metadata": {},
   "outputs": [],
   "source": [
    "true = true.nan_to_num(0)\n",
    "predv = predv.nan_to_num(0)"
   ]
  },
  {
   "cell_type": "code",
   "execution_count": 29,
   "id": "394da379",
   "metadata": {},
   "outputs": [
    {
     "data": {
      "text/plain": [
       "torch.Size([139785, 5331])"
      ]
     },
     "metadata": {},
     "output_type": "display_data"
    },
    {
     "data": {
      "text/plain": [
       "torch.Size([139785, 5331])"
      ]
     },
     "metadata": {},
     "output_type": "display_data"
    }
   ],
   "source": [
    "display(true.shape)\n",
    "display(predv.shape)\n"
   ]
  },
  {
   "cell_type": "code",
   "execution_count": 30,
   "id": "1bfdc451",
   "metadata": {},
   "outputs": [],
   "source": [
    "true[true<0]=0\n",
    "true[true>1]=1\n",
    "# binarized the data for the evaluation\n"
   ]
  },
  {
   "cell_type": "code",
   "execution_count": 31,
   "id": "4f658305",
   "metadata": {},
   "outputs": [],
   "source": [
    "def metricStuff(pred,true):\n",
    "    print(\"NDCG@10\",normalized_dcg(pred, true ,k=10))\n",
    "    print(\"MRR@1000\",mean_reciprocal_rank(pred, true,k=1000))\n",
    "    print(\"P@50\",precision(pred, true,k=50))\n",
    "    print(\"R@50\",recall(pred, true,k=50))\n",
    "    # code breaks when trying to compute metrics that are not @k\n",
    "    # I.e. not enough memory too compute and not enough storage space on hard drive to write to\n",
    "    print(\"MRR@all\",mean_reciprocal_rank(pred, true))\n",
    "    print(\"MAP\",mean_average_precision(pred, true))\n",
    "    "
   ]
  },
  {
   "cell_type": "code",
   "execution_count": 32,
   "id": "8a9cfa3e",
   "metadata": {},
   "outputs": [
    {
     "name": "stdout",
     "output_type": "stream",
     "text": [
      "NDCG@10 tensor(0.1478)\n",
      "MRR@1000 tensor(0.2686)\n",
      "P@50 tensor(0.0864)\n",
      "R@50 tensor(0.3715)\n",
      "MRR@all tensor(0.2686)\n",
      "MAP tensor(0.1124)\n"
     ]
    }
   ],
   "source": [
    "metricStuff(predv,true)"
   ]
  }
 ],
 "metadata": {
  "kernelspec": {
   "display_name": "CSCI5123",
   "language": "python",
   "name": "python3"
  },
  "language_info": {
   "codemirror_mode": {
    "name": "ipython",
    "version": 3
   },
   "file_extension": ".py",
   "mimetype": "text/x-python",
   "name": "python",
   "nbconvert_exporter": "python",
   "pygments_lexer": "ipython3",
   "version": "3.12.8"
  }
 },
 "nbformat": 4,
 "nbformat_minor": 5
}
