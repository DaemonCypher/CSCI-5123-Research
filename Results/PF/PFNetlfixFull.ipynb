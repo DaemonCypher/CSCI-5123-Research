{
 "cells": [
  {
   "cell_type": "code",
   "execution_count": 1,
   "id": "82a0e6a7",
   "metadata": {},
   "outputs": [],
   "source": [
    "import numpy as np, pandas as pd\n",
    "from scipy.sparse import coo_matrix\n",
    "from implicit.bpr import BayesianPersonalizedRanking\n",
    "import recometrics\n",
    "from poismf import PoisMF\n",
    "from pandas.api.types import CategoricalDtype\n",
    "from scipy import sparse\n",
    "from sklearn.model_selection import train_test_split\n",
    "import recmetrics\n",
    "import tqdm\n"
   ]
  },
  {
   "cell_type": "code",
   "execution_count": 22,
   "id": "8aed0976",
   "metadata": {},
   "outputs": [],
   "source": [
    "train_df = pd.read_csv(\"netflixFullTrain.csv\",sep=\",\")\n",
    "test_df = pd.read_csv(\"netflixFullTest.csv\",sep=\",\")\n"
   ]
  },
  {
   "cell_type": "code",
   "execution_count": 23,
   "id": "f7d8f738",
   "metadata": {},
   "outputs": [],
   "source": [
    "users = test_df['user_id'].unique()\n",
    "items = test_df['movie_id'].unique()"
   ]
  },
  {
   "cell_type": "code",
   "execution_count": null,
   "id": "f21827da",
   "metadata": {},
   "outputs": [],
   "source": [
    "train_df = train_df[train_df['user_id'].isin(users)]\n",
    "train_df = train_df[train_df['movie_id'].isin(items)]\n",
    "# some how the test and train split was sparse enough i guess that some of the few rows/ columns\n",
    "# that had value were removed due to the split\n",
    "#https://stackoverflow.com/questions/27965295/dropping-rows-from-dataframe-based-on-a-not-in-condition\n"
   ]
  },
  {
   "cell_type": "code",
   "execution_count": 5,
   "id": "b60db977",
   "metadata": {},
   "outputs": [
    {
     "name": "stdout",
     "output_type": "stream",
     "text": [
      "393147 17622\n"
     ]
    }
   ],
   "source": [
    "print(len(users),len(items))"
   ]
  },
  {
   "cell_type": "code",
   "execution_count": 6,
   "id": "713c85f3",
   "metadata": {},
   "outputs": [],
   "source": [
    "user_positives = test_df.groupby('user_id')['movie_id'].apply(set).to_dict()\n"
   ]
  },
  {
   "cell_type": "code",
   "execution_count": 7,
   "id": "c067a599",
   "metadata": {},
   "outputs": [
    {
     "name": "stderr",
     "output_type": "stream",
     "text": [
      "C:\\Users\\Owner\\AppData\\Local\\Temp\\ipykernel_34880\\2094183977.py:1: PerformanceWarning: The following operation may generate 6928036434 cells in the resulting pandas object.\n",
      "  test_ratings_matrix = test_df.pivot(index='user_id', columns='movie_id', values='rating')\n"
     ]
    }
   ],
   "source": [
    "\n",
    "test_ratings_matrix = test_df.pivot(index='user_id', columns='movie_id', values='rating')\n"
   ]
  },
  {
   "cell_type": "code",
   "execution_count": 21,
   "id": "5c3a820d",
   "metadata": {},
   "outputs": [
    {
     "data": {
      "text/html": [
       "<div>\n",
       "<style scoped>\n",
       "    .dataframe tbody tr th:only-of-type {\n",
       "        vertical-align: middle;\n",
       "    }\n",
       "\n",
       "    .dataframe tbody tr th {\n",
       "        vertical-align: top;\n",
       "    }\n",
       "\n",
       "    .dataframe thead th {\n",
       "        text-align: right;\n",
       "    }\n",
       "</style>\n",
       "<table border=\"1\" class=\"dataframe\">\n",
       "  <thead>\n",
       "    <tr style=\"text-align: right;\">\n",
       "      <th>movie_id</th>\n",
       "      <th>1</th>\n",
       "      <th>2</th>\n",
       "      <th>3</th>\n",
       "      <th>4</th>\n",
       "      <th>5</th>\n",
       "      <th>6</th>\n",
       "      <th>7</th>\n",
       "      <th>8</th>\n",
       "      <th>9</th>\n",
       "      <th>10</th>\n",
       "      <th>...</th>\n",
       "      <th>17761</th>\n",
       "      <th>17762</th>\n",
       "      <th>17763</th>\n",
       "      <th>17764</th>\n",
       "      <th>17765</th>\n",
       "      <th>17766</th>\n",
       "      <th>17767</th>\n",
       "      <th>17768</th>\n",
       "      <th>17769</th>\n",
       "      <th>17770</th>\n",
       "    </tr>\n",
       "    <tr>\n",
       "      <th>user_id</th>\n",
       "      <th></th>\n",
       "      <th></th>\n",
       "      <th></th>\n",
       "      <th></th>\n",
       "      <th></th>\n",
       "      <th></th>\n",
       "      <th></th>\n",
       "      <th></th>\n",
       "      <th></th>\n",
       "      <th></th>\n",
       "      <th></th>\n",
       "      <th></th>\n",
       "      <th></th>\n",
       "      <th></th>\n",
       "      <th></th>\n",
       "      <th></th>\n",
       "      <th></th>\n",
       "      <th></th>\n",
       "      <th></th>\n",
       "      <th></th>\n",
       "      <th></th>\n",
       "    </tr>\n",
       "  </thead>\n",
       "  <tbody>\n",
       "    <tr>\n",
       "      <th>6</th>\n",
       "      <td>NaN</td>\n",
       "      <td>NaN</td>\n",
       "      <td>NaN</td>\n",
       "      <td>NaN</td>\n",
       "      <td>NaN</td>\n",
       "      <td>NaN</td>\n",
       "      <td>NaN</td>\n",
       "      <td>NaN</td>\n",
       "      <td>NaN</td>\n",
       "      <td>NaN</td>\n",
       "      <td>...</td>\n",
       "      <td>NaN</td>\n",
       "      <td>NaN</td>\n",
       "      <td>NaN</td>\n",
       "      <td>NaN</td>\n",
       "      <td>NaN</td>\n",
       "      <td>NaN</td>\n",
       "      <td>NaN</td>\n",
       "      <td>NaN</td>\n",
       "      <td>NaN</td>\n",
       "      <td>NaN</td>\n",
       "    </tr>\n",
       "    <tr>\n",
       "      <th>7</th>\n",
       "      <td>NaN</td>\n",
       "      <td>NaN</td>\n",
       "      <td>NaN</td>\n",
       "      <td>NaN</td>\n",
       "      <td>NaN</td>\n",
       "      <td>NaN</td>\n",
       "      <td>NaN</td>\n",
       "      <td>NaN</td>\n",
       "      <td>NaN</td>\n",
       "      <td>NaN</td>\n",
       "      <td>...</td>\n",
       "      <td>NaN</td>\n",
       "      <td>NaN</td>\n",
       "      <td>NaN</td>\n",
       "      <td>NaN</td>\n",
       "      <td>NaN</td>\n",
       "      <td>NaN</td>\n",
       "      <td>NaN</td>\n",
       "      <td>NaN</td>\n",
       "      <td>NaN</td>\n",
       "      <td>NaN</td>\n",
       "    </tr>\n",
       "    <tr>\n",
       "      <th>8</th>\n",
       "      <td>NaN</td>\n",
       "      <td>NaN</td>\n",
       "      <td>NaN</td>\n",
       "      <td>NaN</td>\n",
       "      <td>NaN</td>\n",
       "      <td>NaN</td>\n",
       "      <td>NaN</td>\n",
       "      <td>NaN</td>\n",
       "      <td>NaN</td>\n",
       "      <td>NaN</td>\n",
       "      <td>...</td>\n",
       "      <td>NaN</td>\n",
       "      <td>NaN</td>\n",
       "      <td>NaN</td>\n",
       "      <td>NaN</td>\n",
       "      <td>NaN</td>\n",
       "      <td>NaN</td>\n",
       "      <td>NaN</td>\n",
       "      <td>NaN</td>\n",
       "      <td>NaN</td>\n",
       "      <td>NaN</td>\n",
       "    </tr>\n",
       "    <tr>\n",
       "      <th>10</th>\n",
       "      <td>NaN</td>\n",
       "      <td>NaN</td>\n",
       "      <td>NaN</td>\n",
       "      <td>NaN</td>\n",
       "      <td>NaN</td>\n",
       "      <td>NaN</td>\n",
       "      <td>NaN</td>\n",
       "      <td>NaN</td>\n",
       "      <td>NaN</td>\n",
       "      <td>NaN</td>\n",
       "      <td>...</td>\n",
       "      <td>NaN</td>\n",
       "      <td>NaN</td>\n",
       "      <td>NaN</td>\n",
       "      <td>NaN</td>\n",
       "      <td>NaN</td>\n",
       "      <td>NaN</td>\n",
       "      <td>NaN</td>\n",
       "      <td>NaN</td>\n",
       "      <td>NaN</td>\n",
       "      <td>NaN</td>\n",
       "    </tr>\n",
       "    <tr>\n",
       "      <th>33</th>\n",
       "      <td>NaN</td>\n",
       "      <td>NaN</td>\n",
       "      <td>NaN</td>\n",
       "      <td>NaN</td>\n",
       "      <td>NaN</td>\n",
       "      <td>NaN</td>\n",
       "      <td>NaN</td>\n",
       "      <td>NaN</td>\n",
       "      <td>NaN</td>\n",
       "      <td>NaN</td>\n",
       "      <td>...</td>\n",
       "      <td>NaN</td>\n",
       "      <td>NaN</td>\n",
       "      <td>NaN</td>\n",
       "      <td>NaN</td>\n",
       "      <td>NaN</td>\n",
       "      <td>NaN</td>\n",
       "      <td>NaN</td>\n",
       "      <td>NaN</td>\n",
       "      <td>NaN</td>\n",
       "      <td>NaN</td>\n",
       "    </tr>\n",
       "    <tr>\n",
       "      <th>...</th>\n",
       "      <td>...</td>\n",
       "      <td>...</td>\n",
       "      <td>...</td>\n",
       "      <td>...</td>\n",
       "      <td>...</td>\n",
       "      <td>...</td>\n",
       "      <td>...</td>\n",
       "      <td>...</td>\n",
       "      <td>...</td>\n",
       "      <td>...</td>\n",
       "      <td>...</td>\n",
       "      <td>...</td>\n",
       "      <td>...</td>\n",
       "      <td>...</td>\n",
       "      <td>...</td>\n",
       "      <td>...</td>\n",
       "      <td>...</td>\n",
       "      <td>...</td>\n",
       "      <td>...</td>\n",
       "      <td>...</td>\n",
       "      <td>...</td>\n",
       "    </tr>\n",
       "    <tr>\n",
       "      <th>2649404</th>\n",
       "      <td>NaN</td>\n",
       "      <td>NaN</td>\n",
       "      <td>NaN</td>\n",
       "      <td>NaN</td>\n",
       "      <td>NaN</td>\n",
       "      <td>NaN</td>\n",
       "      <td>NaN</td>\n",
       "      <td>NaN</td>\n",
       "      <td>NaN</td>\n",
       "      <td>NaN</td>\n",
       "      <td>...</td>\n",
       "      <td>NaN</td>\n",
       "      <td>NaN</td>\n",
       "      <td>NaN</td>\n",
       "      <td>NaN</td>\n",
       "      <td>NaN</td>\n",
       "      <td>NaN</td>\n",
       "      <td>NaN</td>\n",
       "      <td>NaN</td>\n",
       "      <td>NaN</td>\n",
       "      <td>NaN</td>\n",
       "    </tr>\n",
       "    <tr>\n",
       "      <th>2649409</th>\n",
       "      <td>NaN</td>\n",
       "      <td>NaN</td>\n",
       "      <td>NaN</td>\n",
       "      <td>NaN</td>\n",
       "      <td>NaN</td>\n",
       "      <td>NaN</td>\n",
       "      <td>NaN</td>\n",
       "      <td>NaN</td>\n",
       "      <td>NaN</td>\n",
       "      <td>NaN</td>\n",
       "      <td>...</td>\n",
       "      <td>NaN</td>\n",
       "      <td>NaN</td>\n",
       "      <td>NaN</td>\n",
       "      <td>NaN</td>\n",
       "      <td>NaN</td>\n",
       "      <td>NaN</td>\n",
       "      <td>NaN</td>\n",
       "      <td>NaN</td>\n",
       "      <td>NaN</td>\n",
       "      <td>NaN</td>\n",
       "    </tr>\n",
       "    <tr>\n",
       "      <th>2649421</th>\n",
       "      <td>NaN</td>\n",
       "      <td>NaN</td>\n",
       "      <td>NaN</td>\n",
       "      <td>NaN</td>\n",
       "      <td>NaN</td>\n",
       "      <td>NaN</td>\n",
       "      <td>NaN</td>\n",
       "      <td>NaN</td>\n",
       "      <td>NaN</td>\n",
       "      <td>NaN</td>\n",
       "      <td>...</td>\n",
       "      <td>NaN</td>\n",
       "      <td>NaN</td>\n",
       "      <td>NaN</td>\n",
       "      <td>NaN</td>\n",
       "      <td>NaN</td>\n",
       "      <td>NaN</td>\n",
       "      <td>NaN</td>\n",
       "      <td>NaN</td>\n",
       "      <td>NaN</td>\n",
       "      <td>NaN</td>\n",
       "    </tr>\n",
       "    <tr>\n",
       "      <th>2649426</th>\n",
       "      <td>NaN</td>\n",
       "      <td>NaN</td>\n",
       "      <td>NaN</td>\n",
       "      <td>NaN</td>\n",
       "      <td>NaN</td>\n",
       "      <td>NaN</td>\n",
       "      <td>NaN</td>\n",
       "      <td>NaN</td>\n",
       "      <td>NaN</td>\n",
       "      <td>NaN</td>\n",
       "      <td>...</td>\n",
       "      <td>NaN</td>\n",
       "      <td>NaN</td>\n",
       "      <td>NaN</td>\n",
       "      <td>NaN</td>\n",
       "      <td>NaN</td>\n",
       "      <td>NaN</td>\n",
       "      <td>NaN</td>\n",
       "      <td>NaN</td>\n",
       "      <td>NaN</td>\n",
       "      <td>NaN</td>\n",
       "    </tr>\n",
       "    <tr>\n",
       "      <th>2649429</th>\n",
       "      <td>NaN</td>\n",
       "      <td>NaN</td>\n",
       "      <td>NaN</td>\n",
       "      <td>NaN</td>\n",
       "      <td>NaN</td>\n",
       "      <td>NaN</td>\n",
       "      <td>NaN</td>\n",
       "      <td>NaN</td>\n",
       "      <td>NaN</td>\n",
       "      <td>NaN</td>\n",
       "      <td>...</td>\n",
       "      <td>NaN</td>\n",
       "      <td>NaN</td>\n",
       "      <td>NaN</td>\n",
       "      <td>NaN</td>\n",
       "      <td>NaN</td>\n",
       "      <td>NaN</td>\n",
       "      <td>NaN</td>\n",
       "      <td>NaN</td>\n",
       "      <td>NaN</td>\n",
       "      <td>NaN</td>\n",
       "    </tr>\n",
       "  </tbody>\n",
       "</table>\n",
       "<p>393147 rows × 17622 columns</p>\n",
       "</div>"
      ],
      "text/plain": [
       "movie_id  1      2      3      4      5      6      7      8      9      \\\n",
       "user_id                                                                   \n",
       "6           NaN    NaN    NaN    NaN    NaN    NaN    NaN    NaN    NaN   \n",
       "7           NaN    NaN    NaN    NaN    NaN    NaN    NaN    NaN    NaN   \n",
       "8           NaN    NaN    NaN    NaN    NaN    NaN    NaN    NaN    NaN   \n",
       "10          NaN    NaN    NaN    NaN    NaN    NaN    NaN    NaN    NaN   \n",
       "33          NaN    NaN    NaN    NaN    NaN    NaN    NaN    NaN    NaN   \n",
       "...         ...    ...    ...    ...    ...    ...    ...    ...    ...   \n",
       "2649404     NaN    NaN    NaN    NaN    NaN    NaN    NaN    NaN    NaN   \n",
       "2649409     NaN    NaN    NaN    NaN    NaN    NaN    NaN    NaN    NaN   \n",
       "2649421     NaN    NaN    NaN    NaN    NaN    NaN    NaN    NaN    NaN   \n",
       "2649426     NaN    NaN    NaN    NaN    NaN    NaN    NaN    NaN    NaN   \n",
       "2649429     NaN    NaN    NaN    NaN    NaN    NaN    NaN    NaN    NaN   \n",
       "\n",
       "movie_id  10     ...  17761  17762  17763  17764  17765  17766  17767  17768  \\\n",
       "user_id          ...                                                           \n",
       "6           NaN  ...    NaN    NaN    NaN    NaN    NaN    NaN    NaN    NaN   \n",
       "7           NaN  ...    NaN    NaN    NaN    NaN    NaN    NaN    NaN    NaN   \n",
       "8           NaN  ...    NaN    NaN    NaN    NaN    NaN    NaN    NaN    NaN   \n",
       "10          NaN  ...    NaN    NaN    NaN    NaN    NaN    NaN    NaN    NaN   \n",
       "33          NaN  ...    NaN    NaN    NaN    NaN    NaN    NaN    NaN    NaN   \n",
       "...         ...  ...    ...    ...    ...    ...    ...    ...    ...    ...   \n",
       "2649404     NaN  ...    NaN    NaN    NaN    NaN    NaN    NaN    NaN    NaN   \n",
       "2649409     NaN  ...    NaN    NaN    NaN    NaN    NaN    NaN    NaN    NaN   \n",
       "2649421     NaN  ...    NaN    NaN    NaN    NaN    NaN    NaN    NaN    NaN   \n",
       "2649426     NaN  ...    NaN    NaN    NaN    NaN    NaN    NaN    NaN    NaN   \n",
       "2649429     NaN  ...    NaN    NaN    NaN    NaN    NaN    NaN    NaN    NaN   \n",
       "\n",
       "movie_id  17769  17770  \n",
       "user_id                 \n",
       "6           NaN    NaN  \n",
       "7           NaN    NaN  \n",
       "8           NaN    NaN  \n",
       "10          NaN    NaN  \n",
       "33          NaN    NaN  \n",
       "...         ...    ...  \n",
       "2649404     NaN    NaN  \n",
       "2649409     NaN    NaN  \n",
       "2649421     NaN    NaN  \n",
       "2649426     NaN    NaN  \n",
       "2649429     NaN    NaN  \n",
       "\n",
       "[393147 rows x 17622 columns]"
      ]
     },
     "metadata": {},
     "output_type": "display_data"
    }
   ],
   "source": [
    "display(test_ratings_matrix)"
   ]
  },
  {
   "cell_type": "code",
   "execution_count": 8,
   "id": "2b6fb12b",
   "metadata": {},
   "outputs": [],
   "source": [
    "del test_df"
   ]
  },
  {
   "cell_type": "code",
   "execution_count": 24,
   "id": "28a9602d",
   "metadata": {},
   "outputs": [
    {
     "data": {
      "text/html": [
       "<div>\n",
       "<style scoped>\n",
       "    .dataframe tbody tr th:only-of-type {\n",
       "        vertical-align: middle;\n",
       "    }\n",
       "\n",
       "    .dataframe tbody tr th {\n",
       "        vertical-align: top;\n",
       "    }\n",
       "\n",
       "    .dataframe thead th {\n",
       "        text-align: right;\n",
       "    }\n",
       "</style>\n",
       "<table border=\"1\" class=\"dataframe\">\n",
       "  <thead>\n",
       "    <tr style=\"text-align: right;\">\n",
       "      <th></th>\n",
       "      <th>UserId</th>\n",
       "      <th>ItemId</th>\n",
       "      <th>Count</th>\n",
       "    </tr>\n",
       "  </thead>\n",
       "  <tbody>\n",
       "    <tr>\n",
       "      <th>0</th>\n",
       "      <td>505016</td>\n",
       "      <td>5082</td>\n",
       "      <td>1</td>\n",
       "    </tr>\n",
       "    <tr>\n",
       "      <th>1</th>\n",
       "      <td>515243</td>\n",
       "      <td>17506</td>\n",
       "      <td>1</td>\n",
       "    </tr>\n",
       "    <tr>\n",
       "      <th>2</th>\n",
       "      <td>2454190</td>\n",
       "      <td>5963</td>\n",
       "      <td>1</td>\n",
       "    </tr>\n",
       "    <tr>\n",
       "      <th>3</th>\n",
       "      <td>453742</td>\n",
       "      <td>5862</td>\n",
       "      <td>1</td>\n",
       "    </tr>\n",
       "    <tr>\n",
       "      <th>4</th>\n",
       "      <td>460424</td>\n",
       "      <td>14691</td>\n",
       "      <td>1</td>\n",
       "    </tr>\n",
       "    <tr>\n",
       "      <th>...</th>\n",
       "      <td>...</td>\n",
       "      <td>...</td>\n",
       "      <td>...</td>\n",
       "    </tr>\n",
       "    <tr>\n",
       "      <th>7033630</th>\n",
       "      <td>2604861</td>\n",
       "      <td>11283</td>\n",
       "      <td>1</td>\n",
       "    </tr>\n",
       "    <tr>\n",
       "      <th>7033631</th>\n",
       "      <td>1086968</td>\n",
       "      <td>6205</td>\n",
       "      <td>1</td>\n",
       "    </tr>\n",
       "    <tr>\n",
       "      <th>7033632</th>\n",
       "      <td>1227848</td>\n",
       "      <td>9695</td>\n",
       "      <td>1</td>\n",
       "    </tr>\n",
       "    <tr>\n",
       "      <th>7033633</th>\n",
       "      <td>1847157</td>\n",
       "      <td>10928</td>\n",
       "      <td>1</td>\n",
       "    </tr>\n",
       "    <tr>\n",
       "      <th>7033634</th>\n",
       "      <td>795792</td>\n",
       "      <td>14484</td>\n",
       "      <td>1</td>\n",
       "    </tr>\n",
       "  </tbody>\n",
       "</table>\n",
       "<p>7033635 rows × 3 columns</p>\n",
       "</div>"
      ],
      "text/plain": [
       "          UserId  ItemId  Count\n",
       "0         505016    5082      1\n",
       "1         515243   17506      1\n",
       "2        2454190    5963      1\n",
       "3         453742    5862      1\n",
       "4         460424   14691      1\n",
       "...          ...     ...    ...\n",
       "7033630  2604861   11283      1\n",
       "7033631  1086968    6205      1\n",
       "7033632  1227848    9695      1\n",
       "7033633  1847157   10928      1\n",
       "7033634   795792   14484      1\n",
       "\n",
       "[7033635 rows x 3 columns]"
      ]
     },
     "metadata": {},
     "output_type": "display_data"
    }
   ],
   "source": [
    "train_df[\"rating\"] =1\n",
    "# train_df =train_df.drop(\"tstamp\",axis=1)\n",
    "train_df =train_df.drop(\"Unnamed: 0\",axis=1)\n",
    "\n",
    "train_df.columns =[\"UserId\", \"ItemId\", \"Count\"]\n",
    "\n",
    "display(train_df)\n"
   ]
  },
  {
   "cell_type": "code",
   "execution_count": 39,
   "id": "9619885c",
   "metadata": {},
   "outputs": [],
   "source": [
    "modelPF = PoisMF(reindex=True, method=\"tncg\", use_float=True,\n",
    "                    early_stop=False, reuse_prev=True,\n",
    "                    k=20, niter=10, maxupd=200, l2_reg=1e3)\\\n",
    "                .fit(coo)"
   ]
  },
  {
   "cell_type": "code",
   "execution_count": 41,
   "id": "e299dfb4",
   "metadata": {},
   "outputs": [
    {
     "data": {
      "text/plain": [
       "(445077, 20)"
      ]
     },
     "metadata": {},
     "output_type": "display_data"
    },
    {
     "data": {
      "text/plain": [
       "(17760, 20)"
      ]
     },
     "metadata": {},
     "output_type": "display_data"
    }
   ],
   "source": [
    "display(modelPF.A.shape) # user\n",
    "display(modelPF.B.shape) # items\n"
   ]
  },
  {
   "cell_type": "code",
   "execution_count": 27,
   "id": "d624701b",
   "metadata": {},
   "outputs": [],
   "source": [
    "pred = np.matmul(modelPF.A,modelPF.B.T)"
   ]
  },
  {
   "cell_type": "code",
   "execution_count": 28,
   "id": "189917d2",
   "metadata": {},
   "outputs": [
    {
     "data": {
      "text/plain": [
       "array([[8.9819914e-05, 6.8380707e-03, 0.0000000e+00, ..., 0.0000000e+00,\n",
       "        2.1861300e-07, 3.0304398e-07],\n",
       "       [0.0000000e+00, 7.7545717e-03, 1.3245443e-03, ..., 3.5621861e-06,\n",
       "        1.1999547e-06, 7.9486557e-07],\n",
       "       [0.0000000e+00, 7.1805944e-03, 1.2436036e-03, ..., 1.2105355e-06,\n",
       "        2.2984141e-06, 2.7344356e-06],\n",
       "       ...,\n",
       "       [0.0000000e+00, 0.0000000e+00, 0.0000000e+00, ..., 0.0000000e+00,\n",
       "        1.0942958e-07, 7.2342239e-08],\n",
       "       [0.0000000e+00, 0.0000000e+00, 0.0000000e+00, ..., 0.0000000e+00,\n",
       "        2.4711406e-07, 1.6664049e-07],\n",
       "       [0.0000000e+00, 0.0000000e+00, 0.0000000e+00, ..., 0.0000000e+00,\n",
       "        1.0897341e-07, 7.2040677e-08]], dtype=float32)"
      ]
     },
     "metadata": {},
     "output_type": "display_data"
    }
   ],
   "source": [
    "display(pred)"
   ]
  },
  {
   "cell_type": "code",
   "execution_count": 29,
   "id": "72db38c2",
   "metadata": {},
   "outputs": [],
   "source": [
    "from recsys_metrics import *\n",
    "import torch\n",
    "# https://github.com/zuoxingdong/recsys_metrics?tab=readme-ov-file#Citation"
   ]
  },
  {
   "cell_type": "code",
   "execution_count": 31,
   "id": "a96a7ba3",
   "metadata": {},
   "outputs": [
    {
     "data": {
      "text/plain": [
       "(445077, 17760)"
      ]
     },
     "metadata": {},
     "output_type": "display_data"
    }
   ],
   "source": [
    "display(pred.shape)"
   ]
  },
  {
   "cell_type": "markdown",
   "id": "670ad02c",
   "metadata": {},
   "source": [
    "Delete unused variables to free up space"
   ]
  },
  {
   "cell_type": "code",
   "execution_count": 18,
   "id": "d2420032",
   "metadata": {},
   "outputs": [],
   "source": [
    "del users\n",
    "del items\n",
    "\n",
    "del modelPF\n",
    "del train_df\n"
   ]
  },
  {
   "cell_type": "code",
   "execution_count": 19,
   "id": "197b2369",
   "metadata": {},
   "outputs": [],
   "source": [
    "predv = torch.from_numpy(pred)\n",
    "#https://medium.com/@heyamit10/converting-a-numpy-array-to-a-tensor-step-by-step-df329c44b035"
   ]
  },
  {
   "cell_type": "code",
   "execution_count": 20,
   "id": "05ae8782",
   "metadata": {},
   "outputs": [],
   "source": [
    "del pred"
   ]
  },
  {
   "cell_type": "code",
   "execution_count": null,
   "id": "a816bdea",
   "metadata": {},
   "outputs": [],
   "source": [
    "marData = predv.detach().numpy()\n",
    "marDF = pd.DataFrame(marData)\n",
    "marDF.index.name = \"user\"\n",
    "marDF.columns.name = \"items\"\n",
    "\n",
    "# marDF = marDF.stack().reset_index()\n",
    "# marDF.columns = ['user', 'item', 'score']\n",
    "# print(\"MAR\",calculate_metrics(marDF,user_positives))\n"
   ]
  },
  {
   "cell_type": "code",
   "execution_count": null,
   "id": "2ed070ac",
   "metadata": {},
   "outputs": [],
   "source": [
    "def calculate_metrics_matrix(pred_df, user_positives, k_list=[10, 50, 100]):\n",
    "    metrics = {\n",
    "        'MAR@ALL': [],\n",
    "        'MAR@1000': [],\n",
    "    }\n",
    "\n",
    "    user_ids = pred_df.index.values  # Get actual user identifiers\n",
    "\n",
    "    for user in tqdm.tqdm(user_ids, desc=\"Processing Users\"):\n",
    "        positives = user_positives.get(user, set())\n",
    "        if len(positives) == 0:\n",
    "            continue\n",
    "\n",
    "        data = pred_df.loc[user].values  \n",
    "        # get descending order like original code\n",
    "        #https://www.w3schools.com/python/numpy/numpy_array_sort.asp\n",
    "        placeholder = np.sort(data)\n",
    "        #https://www.geeksforgeeks.org/python-reverse-a-numpy-array/\n",
    "        all_items = np.flip(placeholder)\n",
    "                \n",
    "        relevant_ranks1k = []\n",
    "        relevant_ranks_all=[]\n",
    "        for rank, item in enumerate(all_items[:1000], start=1):\n",
    "            if item in positives:\n",
    "                relevant_ranks1k.append(rank)\n",
    "        #calculate relevant\n",
    "        for rank, item in enumerate(all_items, start=1):\n",
    "            if item in positives:\n",
    "                relevant_ranks_all.append(rank)\n",
    "\n",
    "\n",
    "\n",
    "        if relevant_ranks_all:\n",
    "            metrics['MAR@ALL'].append(np.mean(relevant_ranks_all))\n",
    "        if relevant_ranks1k:\n",
    "            metrics['MAR@1000'].append(np.mean(relevant_ranks1k))\n",
    "        \n",
    "\n",
    "    \n",
    "    final = {\n",
    "        'MAR@ALL': np.mean(metrics['MAR@ALL']),\n",
    "        'MAR@1000': np.mean(metrics['MAR@1000']),\n",
    "    }\n",
    "\n",
    "    return final"
   ]
  },
  {
   "cell_type": "code",
   "execution_count": null,
   "id": "6f5b18f4",
   "metadata": {},
   "outputs": [],
   "source": [
    "calculate_metrics_matrix(marDF,user_positives)"
   ]
  },
  {
   "cell_type": "code",
   "execution_count": null,
   "id": "bf37e1b5",
   "metadata": {},
   "outputs": [],
   "source": [
    "del marDF\n",
    "del user_positives"
   ]
  },
  {
   "cell_type": "code",
   "execution_count": null,
   "id": "b049a6b9",
   "metadata": {},
   "outputs": [],
   "source": [
    "true = torch.tensor(test_ratings_matrix.values,dtype=torch.float16)"
   ]
  },
  {
   "cell_type": "code",
   "execution_count": null,
   "id": "3cfdd9bb",
   "metadata": {},
   "outputs": [],
   "source": [
    "del test_ratings_matrix"
   ]
  },
  {
   "cell_type": "code",
   "execution_count": null,
   "id": "85b3c767",
   "metadata": {},
   "outputs": [],
   "source": [
    "display(true)\n",
    "display(predv)"
   ]
  },
  {
   "cell_type": "code",
   "execution_count": null,
   "id": "346a85cf",
   "metadata": {},
   "outputs": [],
   "source": [
    "true = true.nan_to_num(0)\n",
    "predv = predv.nan_to_num(0)"
   ]
  },
  {
   "cell_type": "code",
   "execution_count": null,
   "id": "394da379",
   "metadata": {},
   "outputs": [],
   "source": [
    "display(true.shape)\n",
    "display(predv.shape)\n"
   ]
  },
  {
   "cell_type": "code",
   "execution_count": null,
   "id": "1bfdc451",
   "metadata": {},
   "outputs": [],
   "source": [
    "true[true<0]=0\n",
    "true[true>1]=1\n"
   ]
  },
  {
   "cell_type": "code",
   "execution_count": null,
   "id": "4f658305",
   "metadata": {},
   "outputs": [],
   "source": [
    "def metricStuff(pred,true):\n",
    "    print(\"NDCG@10\",normalized_dcg(pred, true ,k=10))\n",
    "    print(\"MRR@1000\",mean_reciprocal_rank(pred, true,k=1000))\n",
    "    print(\"P@50\",precision(pred, true,k=50))\n",
    "    print(\"R@50\",recall(pred, true,k=50))\n",
    "    # code breaks when trying to compute metrics that are not @k\n",
    "    # I.e. not enough memory too compute and not enough storage space on hard drive to write to\n",
    "    # print(\"MRR@all\",mean_reciprocal_rank(pred, true))\n",
    "    # print(\"MAP\",mean_average_precision(pred, true))\n",
    "    "
   ]
  },
  {
   "cell_type": "code",
   "execution_count": null,
   "id": "8a9cfa3e",
   "metadata": {},
   "outputs": [],
   "source": [
    "metricStuff(predv,true)"
   ]
  }
 ],
 "metadata": {
  "kernelspec": {
   "display_name": "CSCI5123",
   "language": "python",
   "name": "python3"
  },
  "language_info": {
   "codemirror_mode": {
    "name": "ipython",
    "version": 3
   },
   "file_extension": ".py",
   "mimetype": "text/x-python",
   "name": "python",
   "nbconvert_exporter": "python",
   "pygments_lexer": "ipython3",
   "version": "3.12.8"
  }
 },
 "nbformat": 4,
 "nbformat_minor": 5
}
