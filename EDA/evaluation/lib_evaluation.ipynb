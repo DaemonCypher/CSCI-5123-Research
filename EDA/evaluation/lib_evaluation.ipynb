{
 "cells": [
  {
   "cell_type": "markdown",
   "id": "159f1dee",
   "metadata": {},
   "source": [
    "# Evaluation using recsys_metrics library"
   ]
  },
  {
   "cell_type": "code",
   "execution_count": 1,
   "id": "6432e5e1",
   "metadata": {},
   "outputs": [],
   "source": [
    "import numpy as np\n",
    "import pandas as pd\n",
    "import dask.dataframe as dd\n",
    "import recsys_metrics as rm\n",
    "import torch"
   ]
  },
  {
   "cell_type": "code",
   "execution_count": 3,
   "id": "1c39aedc",
   "metadata": {},
   "outputs": [],
   "source": [
    "path = 'eva_netflix_full/'"
   ]
  },
  {
   "cell_type": "code",
   "execution_count": null,
   "id": "1c409630",
   "metadata": {},
   "outputs": [],
   "source": []
  },
  {
   "cell_type": "code",
   "execution_count": null,
   "id": "1c258d10",
   "metadata": {},
   "outputs": [
    {
     "data": {
      "text/plain": [
       "142765"
      ]
     },
     "metadata": {},
     "output_type": "display_data"
    },
    {
     "data": {
      "text/plain": [
       "5331"
      ]
     },
     "metadata": {},
     "output_type": "display_data"
    },
    {
     "name": "stdout",
     "output_type": "stream",
     "text": [
      "{'precision': 0.06219336838723468, 'recall': 0.21261241621060742, 'mean_average_precision': 0.12065339700254683, 'mean_reciprocal_rank': 0.16964338305252635, 'hit_rate': 0.7881890045426906, 'normalized_dcg': 0.12822332224487604}\n"
     ]
    }
   ],
   "source": [
    "# compute metrics to tensors\n",
    "def user_to_tensors(user_group, user_positives):\n",
    "    user_id = user_group.name\n",
    "    positives = set(user_positives.get(user_id, []))\n",
    "    \n",
    "    sorted_group = user_group.sort_values('score', ascending=False)\n",
    "    items = sorted_group['item'].values\n",
    "    scores = sorted_group['score'].values\n",
    "    \n",
    "    target = torch.tensor(\n",
    "        [1 if item in positives else 0 for item in items],\n",
    "        dtype=torch.float32\n",
    "    ).unsqueeze(0)\n",
    "    \n",
    "    # Create preds tensor\n",
    "    preds = torch.tensor(scores, dtype=torch.float32).unsqueeze(0)\n",
    "\n",
    "    return preds, target\n",
    "\n",
    "#https://docs.dask.org/en/stable/generated/dask.dataframe.DataFrame.apply.html\n",
    "def compute_rank_report(pred_df, user_positives, k=10):\n",
    "\n",
    "    results = pred_df.groupby('user').apply(\n",
    "        lambda g: pd.Series(rm.rank_report(\n",
    "            preds=user_to_tensors(g, user_positives)[0],\n",
    "            target=user_to_tensors(g, user_positives)[1],\n",
    "            k=k\n",
    "        )),\n",
    "        meta={metric: 'f8' for metric in ['precision', 'recall', 'mean_average_precision', 'mean_reciprocal_rank', 'hit_rate', 'normalized_dcg']}\n",
    "    ).compute()\n",
    "    \n",
    "\n",
    "    return results.mean().to_dict()\n",
    "\n",
    "pred_df = dd.read_csv(path + 'ranking.tsv', sep='\\t', \n",
    "                     names=['user', 'item', 'score', 'label'])\n",
    "\n",
    "test =  pd.read_csv(path + 'test.tsv', sep='\\t', \n",
    "                names=['user', 'item', 'label','timestamp'])\n",
    "\n",
    "num_users = test['user'].nunique() \n",
    "num_items = test['item'].nunique()\n",
    "display(num_users, num_items)\n",
    "\n",
    "user_positives = test.groupby('user')['item'].apply(list).to_dict()\n",
    "\n",
    "metrics = compute_rank_report(pred_df, user_positives, k=10)\n",
    "print(metrics)"
   ]
  },
  {
   "cell_type": "code",
   "execution_count": null,
   "id": "df53fd43",
   "metadata": {},
   "outputs": [],
   "source": []
  }
 ],
 "metadata": {
  "kernelspec": {
   "display_name": "Python 3",
   "language": "python",
   "name": "python3"
  },
  "language_info": {
   "codemirror_mode": {
    "name": "ipython",
    "version": 3
   },
   "file_extension": ".py",
   "mimetype": "text/x-python",
   "name": "python",
   "nbconvert_exporter": "python",
   "pygments_lexer": "ipython3",
   "version": "3.11.9"
  }
 },
 "nbformat": 4,
 "nbformat_minor": 5
}
