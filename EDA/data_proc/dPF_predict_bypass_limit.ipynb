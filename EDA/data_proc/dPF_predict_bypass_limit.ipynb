{
 "cells": [
  {
   "cell_type": "code",
   "execution_count": null,
   "id": "63b68f84",
   "metadata": {},
   "outputs": [],
   "source": [
    "import numpy as np\n",
    "import pandas as pd\n",
    "from tqdm import tqdm \n",
    "\n",
    "path = 'eva_netflix_full/'\n",
    "\n",
    "def load_factors(file_path):\n",
    "    data = []\n",
    "    with open(file_path, 'r') as f:\n",
    "        for line in f:\n",
    "            parts = line.strip().split('\\t')\n",
    "\n",
    "            obj_id = int(parts[1])\n",
    "            factors = np.array([float(x) for x in parts[2:]])\n",
    "            data.append((obj_id, factors))\n",
    "    return dict(data)\n",
    "\n",
    "beta = load_factors(path + 'beta.tsv')\n",
    "theta = load_factors(path + 'theta.tsv')\n",
    "\n",
    "test_users_df = pd.read_csv(path + 'test_users.tsv', header=None, sep='\\t')\n",
    "\n",
    "#only predict test users\n",
    "#generally they should be the same but just in case it can cut down the runtime\n",
    "test_user_ids = test_users_df[0].tolist()\n",
    "test_users = theta.keys() & set(test_user_ids)\n",
    "\n",
    "all_items = list(beta.keys())\n",
    "\n",
    "predictions = []\n"
   ]
  },
  {
   "cell_type": "code",
   "execution_count": 2,
   "id": "c09001d7",
   "metadata": {},
   "outputs": [
    {
     "data": {
      "text/plain": [
       "139785"
      ]
     },
     "execution_count": 2,
     "metadata": {},
     "output_type": "execute_result"
    }
   ],
   "source": [
    "len(test_users)"
   ]
  },
  {
   "cell_type": "code",
   "execution_count": 3,
   "id": "55442386",
   "metadata": {},
   "outputs": [
    {
     "name": "stderr",
     "output_type": "stream",
     "text": [
      "Processing Users:   6%|▌         | 8597/139785 [00:35<08:58, 243.44it/s]\n"
     ]
    },
    {
     "ename": "KeyboardInterrupt",
     "evalue": "",
     "output_type": "error",
     "traceback": [
      "\u001b[1;31m---------------------------------------------------------------------------\u001b[0m",
      "\u001b[1;31mKeyboardInterrupt\u001b[0m                         Traceback (most recent call last)",
      "\u001b[1;32m~\\AppData\\Local\\Temp\\ipykernel_316300\\4115332383.py\u001b[0m in \u001b[0;36m<cell line: 0>\u001b[1;34m()\u001b[0m\n\u001b[0;32m      5\u001b[0m         \u001b[0mitem_factor\u001b[0m \u001b[1;33m=\u001b[0m \u001b[0mbeta\u001b[0m\u001b[1;33m[\u001b[0m\u001b[0mitem_id\u001b[0m\u001b[1;33m]\u001b[0m\u001b[1;33m\u001b[0m\u001b[1;33m\u001b[0m\u001b[0m\n\u001b[0;32m      6\u001b[0m \u001b[1;33m\u001b[0m\u001b[0m\n\u001b[1;32m----> 7\u001b[1;33m         \u001b[0mpred\u001b[0m \u001b[1;33m=\u001b[0m \u001b[0mnp\u001b[0m\u001b[1;33m.\u001b[0m\u001b[0mdot\u001b[0m\u001b[1;33m(\u001b[0m\u001b[0muser_factor\u001b[0m\u001b[1;33m,\u001b[0m \u001b[0mitem_factor\u001b[0m\u001b[1;33m)\u001b[0m\u001b[1;33m\u001b[0m\u001b[1;33m\u001b[0m\u001b[0m\n\u001b[0m\u001b[0;32m      8\u001b[0m \u001b[1;33m\u001b[0m\u001b[0m\n\u001b[0;32m      9\u001b[0m         predictions.append({\n",
      "\u001b[1;31mKeyboardInterrupt\u001b[0m: "
     ]
    }
   ],
   "source": [
    "for user_id in tqdm(test_users, desc=\"Processing Users\"):\n",
    "    user_factor = theta[user_id]\n",
    "    \n",
    "    for item_id in all_items:\n",
    "        item_factor = beta[item_id]\n",
    "        \n",
    "        pred = np.dot(user_factor, item_factor)\n",
    "        \n",
    "        predictions.append({\n",
    "            'user_id': user_id,\n",
    "            'item_id': item_id,\n",
    "            'prediction': pred\n",
    "        })\n",
    "        \n",
    "df = pd.DataFrame(predictions)\n",
    "df.to_csv('ranking.tsv', sep='\\t', index=False, header=False)\n",
    "\n",
    "print(f\"Generated {len(predictions)} predictions!\")"
   ]
  },
  {
   "cell_type": "code",
   "execution_count": null,
   "id": "cc6aebb6",
   "metadata": {},
   "outputs": [],
   "source": [
    "# large file with pointer\n",
    "with open('ranking.tsv', 'w') as f:\n",
    "    for user_id in tqdm(test_users, desc=\"Processing Users\"):\n",
    "        user_factor = theta[user_id]\n",
    "\n",
    "        for item_id in all_items:\n",
    "            item_factor = beta[item_id]\n",
    "            \n",
    "            pred = np.dot(user_factor, item_factor)\n",
    "            \n",
    "            f.write(f\"{user_id}\\t{item_id}\\t{pred}\\n\")\n",
    "\n",
    "total_predictions = len(test_users) * len(all_items)\n",
    "print(f\"Generated {total_predictions} predictions!\")"
   ]
  }
 ],
 "metadata": {
  "kernelspec": {
   "display_name": "Python 3",
   "language": "python",
   "name": "python3"
  },
  "language_info": {
   "codemirror_mode": {
    "name": "ipython",
    "version": 3
   },
   "file_extension": ".py",
   "mimetype": "text/x-python",
   "name": "python",
   "nbconvert_exporter": "python",
   "pygments_lexer": "ipython3",
   "version": "3.11.9"
  }
 },
 "nbformat": 4,
 "nbformat_minor": 5
}
